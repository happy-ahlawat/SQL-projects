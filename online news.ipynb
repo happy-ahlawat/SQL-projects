{
 "cells": [
  {
   "cell_type": "markdown",
   "metadata": {
    "dc": {
     "key": "4"
    },
    "deletable": false,
    "editable": false,
    "run_control": {
     "frozen": true
    },
    "tags": [
     "context"
    ]
   },
   "source": [
    "## 1. Online News Exhibition\n",
    "<p>Following the changes in working habits during the COVID pandemic, your local library has decided it is time to make the newspaper archives available online. They are not sure what the response will be so they are going to trial a new system on a small set of their data. </p>\n",
    "<p>The library database has a table <code>articles</code> with a record of all articles published in the newspaper. However, the table will need some preparation before the library can use it in the new system. They would like to focus the initial trial on articles from 2014 and 2015 only, and for just one journalist whose ID in the database is 1754.</p>\n",
    "<p>The final results should be sorted from earliest published date to the most recent published date.</p>\n",
    "<p>Below are the requirements the library has given to you for the data they need. </p>\n",
    "<table>\n",
    "<thead>\n",
    "<tr>\n",
    "<th style=\"text-align:left;\">Requirements</th>\n",
    "<th style=\"text-align:left;\">Data Type</th>\n",
    "<th style=\"text-align:left;\">Column Alias</th>\n",
    "</tr>\n",
    "</thead>\n",
    "<tbody>\n",
    "<tr>\n",
    "<td style=\"text-align:left;\">Unique ID of each article, where the first 4 digits represents the journalist ID.</td>\n",
    "<td style=\"text-align:left;\">TEXT</td>\n",
    "<td style=\"text-align:left;\">article_key</td>\n",
    "</tr>\n",
    "<tr>\n",
    "<td style=\"text-align:left;\">Category of the article, in uppercase.  'Food &amp; Drink' and 'Wellness' should be collapsed  into a 'Lifestyle' category.</td>\n",
    "<td style=\"text-align:left;\">TEXT</td>\n",
    "<td style=\"text-align:left;\">category</td>\n",
    "</tr>\n",
    "<tr>\n",
    "<td style=\"text-align:left;\">Headline of the article, without the subtitle that appears after the colon (:).  For example, 'It Could Happen To You: A Story of SEC Overreach' becomes 'It Could Happen To You'.</td>\n",
    "<td style=\"text-align:left;\">TEXT</td>\n",
    "<td style=\"text-align:left;\">headline</td>\n",
    "</tr>\n",
    "<tr>\n",
    "<td style=\"text-align:left;\">Subtitles of the article, without the headline that appears before the colon (:). For example, 'It Could Happen to You: A Story of SEC Overreach' becomes 'A Story of SEC Overreach'. In cases where a headline does not have a subtitle, the missing value should read ‘None’.</td>\n",
    "<td style=\"text-align:left;\">TEXT</td>\n",
    "<td style=\"text-align:left;\">subtitle</td>\n",
    "</tr>\n",
    "<tr>\n",
    "<td style=\"text-align:left;\">Description of the article. The description should be reduced to the first sentence, up to and including the first period (.) from the short_description column.</td>\n",
    "<td style=\"text-align:left;\">TEXT</td>\n",
    "<td style=\"text-align:left;\">description</td>\n",
    "</tr>\n",
    "<tr>\n",
    "<td style=\"text-align:left;\">Keywords of the article. Multiple keywords will be seperated with a dash (-). If the keyword is missing, the value should read ‘Unknown’.</td>\n",
    "<td style=\"text-align:left;\">TEXT</td>\n",
    "<td style=\"text-align:left;\">keywords</td>\n",
    "</tr>\n",
    "<tr>\n",
    "<td style=\"text-align:left;\">Date the article was published. The data should be displayed in the format resembling the following: ‘Aug 13, 1995’.</td>\n",
    "<td style=\"text-align:left;\">TEXT</td>\n",
    "<td style=\"text-align:left;\">publish_date</td>\n",
    "</tr>\n",
    "</tbody>\n",
    "</table>"
   ]
  },
  {
   "cell_type": "code",
   "execution_count": 1,
   "metadata": {
    "dc": {
     "key": "4"
    },
    "tags": [
     "sample_code"
    ]
   },
   "outputs": [
    {
     "name": "stderr",
     "output_type": "stream",
     "text": [
      "UsageError: Cell magic `%%sql` not found.\n"
     ]
    }
   ],
   "source": [
    "%%sql\n",
    "postgresql:///articles\n",
    "    \n",
    "SELECT\n",
    "    CAST(article_key AS TEXT) as article_key,\n",
    "    CASE \n",
    "        WHEN category = 'FOOD & DRINK' or category = 'WELLNESS' \n",
    "        THEN 'LIFESTYLE' \n",
    "        ELSE category\n",
    "        END as category,\n",
    "    CASE \n",
    "        WHEN headline NOT LIKE '%:%' THEN headline\n",
    "        ELSE TRIM(SUBSTRING(headline,0,STRPOS(headline,':'))) \n",
    "        END as headline,\n",
    "    CASE\n",
    "        WHEN headline NOT LIKE '%:%' THEN 'None'\n",
    "        ELSE TRIM(SUBSTRING(headline, STRPOS(headline,':') + 1))\n",
    "        END as subtitle,\n",
    "    TRIM(SUBSTRING(short_description,0,STRPOS(short_description,'.')+ 1)) as description,\n",
    "    CASE\n",
    "        WHEN keywords IS NULL\n",
    "        THEN 'Unknown'\n",
    "        ELSE keywords\n",
    "        END AS keywords,\n",
    "   TO_CHAR(release_date::date,'Mon dd, yyyy') as  publish_date\n",
    "FROM articles\n",
    "WHERE SUBSTRING(article_key, 1, 4) = '1754'\n",
    "    AND (release_date LIKE '%2014%' or release_date LIKE '%2015%')\n",
    "ORDER BY release_date"
   ]
  }
 ],
 "metadata": {
  "kernelspec": {
   "display_name": "Python 3 (ipykernel)",
   "language": "python",
   "name": "python3"
  },
  "language_info": {
   "codemirror_mode": {
    "name": "ipython",
    "version": 3
   },
   "file_extension": ".py",
   "mimetype": "text/x-python",
   "name": "python",
   "nbconvert_exporter": "python",
   "pygments_lexer": "ipython3",
   "version": "3.9.7"
  }
 },
 "nbformat": 4,
 "nbformat_minor": 2
}
